{
 "cells": [
  {
   "cell_type": "markdown",
   "metadata": {},
   "source": [
    "# Collaboration and Competition\n",
    "\n",
    "---\n",
    "\n",
    "In this notebook, you will learn how to use the Unity ML-Agents environment for the third project of the [Deep Reinforcement Learning Nanodegree](https://www.udacity.com/course/deep-reinforcement-learning-nanodegree--nd893) program.\n",
    "\n",
    "### 1. Start the Environment\n",
    "\n",
    "We begin by importing the necessary packages.  If the code cell below returns an error, please revisit the project instructions to double-check that you have installed [Unity ML-Agents](https://github.com/Unity-Technologies/ml-agents/blob/master/docs/Installation.md) and [NumPy](http://www.numpy.org/)."
   ]
  },
  {
   "cell_type": "code",
   "execution_count": 1,
   "metadata": {},
   "outputs": [],
   "source": [
    "from unityagents import UnityEnvironment\n",
    "import numpy as np"
   ]
  },
  {
   "cell_type": "markdown",
   "metadata": {},
   "source": [
    "Next, we will start the environment!  **_Before running the code cell below_**, change the `file_name` parameter to match the location of the Unity environment that you downloaded.\n",
    "\n",
    "- **Mac**: `\"path/to/Tennis.app\"`\n",
    "- **Windows** (x86): `\"path/to/Tennis_Windows_x86/Tennis.exe\"`\n",
    "- **Windows** (x86_64): `\"path/to/Tennis_Windows_x86_64/Tennis.exe\"`\n",
    "- **Linux** (x86): `\"path/to/Tennis_Linux/Tennis.x86\"`\n",
    "- **Linux** (x86_64): `\"path/to/Tennis_Linux/Tennis.x86_64\"`\n",
    "- **Linux** (x86, headless): `\"path/to/Tennis_Linux_NoVis/Tennis.x86\"`\n",
    "- **Linux** (x86_64, headless): `\"path/to/Tennis_Linux_NoVis/Tennis.x86_64\"`\n",
    "\n",
    "For instance, if you are using a Mac, then you downloaded `Tennis.app`.  If this file is in the same folder as the notebook, then the line below should appear as follows:\n",
    "```\n",
    "env = UnityEnvironment(file_name=\"Tennis.app\")\n",
    "```"
   ]
  },
  {
   "cell_type": "code",
   "execution_count": 2,
   "metadata": {},
   "outputs": [
    {
     "name": "stderr",
     "output_type": "stream",
     "text": [
      "INFO:unityagents:\n",
      "'Academy' started successfully!\n",
      "Unity Academy name: Academy\n",
      "        Number of Brains: 1\n",
      "        Number of External Brains : 1\n",
      "        Lesson number : 0\n",
      "        Reset Parameters :\n",
      "\t\t\n",
      "Unity brain name: TennisBrain\n",
      "        Number of Visual Observations (per agent): 0\n",
      "        Vector Observation space type: continuous\n",
      "        Vector Observation space size (per agent): 8\n",
      "        Number of stacked Vector Observation: 3\n",
      "        Vector Action space type: continuous\n",
      "        Vector Action space size (per agent): 2\n",
      "        Vector Action descriptions: , \n"
     ]
    }
   ],
   "source": [
    "env = UnityEnvironment(file_name=\"../../Tennis_Windows_x86_64/Tennis.exe\")"
   ]
  },
  {
   "cell_type": "markdown",
   "metadata": {},
   "source": [
    "Environments contain **_brains_** which are responsible for deciding the actions of their associated agents. Here we check for the first brain available, and set it as the default brain we will be controlling from Python."
   ]
  },
  {
   "cell_type": "code",
   "execution_count": 3,
   "metadata": {},
   "outputs": [],
   "source": [
    "# get the default brain\n",
    "brain_name = env.brain_names[0]\n",
    "brain = env.brains[brain_name]"
   ]
  },
  {
   "cell_type": "markdown",
   "metadata": {},
   "source": [
    "### 2. Examine the State and Action Spaces\n",
    "\n",
    "In this environment, two agents control rackets to bounce a ball over a net. If an agent hits the ball over the net, it receives a reward of +0.1.  If an agent lets a ball hit the ground or hits the ball out of bounds, it receives a reward of -0.01.  Thus, the goal of each agent is to keep the ball in play.\n",
    "\n",
    "The observation space consists of 8 variables corresponding to the position and velocity of the ball and racket. Two continuous actions are available, corresponding to movement toward (or away from) the net, and jumping. \n",
    "\n",
    "Run the code cell below to print some information about the environment."
   ]
  },
  {
   "cell_type": "code",
   "execution_count": 4,
   "metadata": {},
   "outputs": [
    {
     "name": "stdout",
     "output_type": "stream",
     "text": [
      "Number of agents: 2\n",
      "Size of each action: 2\n",
      "There are 2 agents. Each observes a state with length: 24\n",
      "The state for the first agent looks like: [ 0.          0.          0.          0.          0.          0.\n",
      "  0.          0.          0.          0.          0.          0.\n",
      "  0.          0.          0.          0.         -6.65278625 -1.5\n",
      " -0.          0.          6.83172083  6.         -0.          0.        ]\n"
     ]
    }
   ],
   "source": [
    "# reset the environment\n",
    "env_info = env.reset(train_mode=True)[brain_name]\n",
    "\n",
    "# number of agents \n",
    "num_agents = len(env_info.agents)\n",
    "print('Number of agents:', num_agents)\n",
    "\n",
    "# size of each action\n",
    "action_size = brain.vector_action_space_size\n",
    "print('Size of each action:', action_size)\n",
    "\n",
    "# examine the state space \n",
    "states = env_info.vector_observations\n",
    "state_size = states.shape[1]\n",
    "print('There are {} agents. Each observes a state with length: {}'.format(states.shape[0], state_size))\n",
    "print('The state for the first agent looks like:', states[0])"
   ]
  },
  {
   "cell_type": "markdown",
   "metadata": {},
   "source": [
    "### 3. Take Random Actions in the Environment\n",
    "\n",
    "In the next code cell, you will learn how to use the Python API to control the agents and receive feedback from the environment.\n",
    "\n",
    "Once this cell is executed, you will watch the agents' performance, if they select actions at random with each time step.  A window should pop up that allows you to observe the agents.\n",
    "\n",
    "Of course, as part of the project, you'll have to change the code so that the agents are able to use their experiences to gradually choose better actions when interacting with the environment!"
   ]
  },
  {
   "cell_type": "code",
   "execution_count": 5,
   "metadata": {},
   "outputs": [
    {
     "name": "stdout",
     "output_type": "stream",
     "text": [
      "Score (max over agents) from episode 1: 0.0\n",
      "Score (max over agents) from episode 2: 0.0\n",
      "Score (max over agents) from episode 3: 0.0\n",
      "Score (max over agents) from episode 4: 0.0\n",
      "Score (max over agents) from episode 5: 0.0\n"
     ]
    }
   ],
   "source": [
    "for i in range(1, 6):                                      # play game for 5 episodes\n",
    "    env_info = env.reset(train_mode=False)[brain_name]     # reset the environment    \n",
    "    states = env_info.vector_observations                  # get the current state (for each agent)\n",
    "    scores = np.zeros(num_agents)                          # initialize the score (for each agent)\n",
    "    while True:\n",
    "        actions = np.random.randn(num_agents, action_size) # select an action (for each agent)\n",
    "        actions = np.clip(actions, -1, 1)                  # all actions between -1 and 1\n",
    "        env_info = env.step(actions)[brain_name]           # send all actions to tne environment\n",
    "        next_states = env_info.vector_observations         # get next state (for each agent)\n",
    "        rewards = env_info.rewards                         # get reward (for each agent)\n",
    "        dones = env_info.local_done                        # see if episode finished\n",
    "        scores += env_info.rewards                         # update the score (for each agent)\n",
    "        states = next_states                               # roll over states to next time step\n",
    "        if np.any(dones):                                  # exit loop if episode finished\n",
    "            break\n",
    "    print('Score (max over agents) from episode {}: {}'.format(i, np.max(scores)))"
   ]
  },
  {
   "cell_type": "markdown",
   "metadata": {},
   "source": [
    "### 4. It's Your Turn!\n",
    "\n",
    "Now it's your turn to train your own agent to solve the environment!  When training the environment, set `train_mode=True`, so that the line for resetting the environment looks like the following:\n",
    "```python\n",
    "env_info = env.reset(train_mode=True)[brain_name]\n",
    "```"
   ]
  },
  {
   "cell_type": "markdown",
   "metadata": {},
   "source": [
    "#### 4.1 Import the needed modules to train the agents with MADDPG "
   ]
  },
  {
   "cell_type": "code",
   "execution_count": 6,
   "metadata": {},
   "outputs": [],
   "source": [
    "import torch\n",
    "import configparser\n",
    "import matplotlib.pyplot as plt\n",
    "from collections import deque\n",
    "\n",
    "from maddpg import MADDPG"
   ]
  },
  {
   "cell_type": "markdown",
   "metadata": {},
   "source": [
    "#### 4.2 Configer the Hyperparameter"
   ]
  },
  {
   "cell_type": "code",
   "execution_count": 7,
   "metadata": {},
   "outputs": [],
   "source": [
    "# config settings\n",
    "config = configparser.ConfigParser()\n",
    "config.update_every = 1           # update rate\n",
    "config.batch_size = 512           # minibatch size\n",
    "config.buffer_size = int(1e6)     # replay buffer size\n",
    "config.discount = 0.99            # discount factor\n",
    "config.tau = 0.2                  # for soft update of target parameters\n",
    "config.seed = 2                   # random seed\n",
    "config.lr_actor = 1e-4            # learning rate of the actor\n",
    "config.lr_critic = 1e-4           # learning rate of the critic\n",
    "config.action_size = action_size  # Two continuous actions are available.\n",
    "config.num_agents = num_agents    # There are 2 agents,\n",
    "config.state_size = state_size    # each observes a state with length: 24 \n",
    "\n",
    "maddpg = MADDPG(config)"
   ]
  },
  {
   "cell_type": "markdown",
   "metadata": {},
   "source": [
    "#### 4.3 Print the actor and critic network defined in the model"
   ]
  },
  {
   "cell_type": "code",
   "execution_count": 8,
   "metadata": {},
   "outputs": [
    {
     "name": "stdout",
     "output_type": "stream",
     "text": [
      "Actor(\n",
      "  (fc1): Linear(in_features=24, out_features=128, bias=True)\n",
      "  (bn1): BatchNorm1d(128, eps=1e-05, momentum=0.1, affine=True, track_running_stats=True)\n",
      "  (fc2): Linear(in_features=128, out_features=128, bias=True)\n",
      "  (fc3): Linear(in_features=128, out_features=2, bias=True)\n",
      ")\n",
      "Critic(\n",
      "  (fcs1): Linear(in_features=24, out_features=128, bias=True)\n",
      "  (bn1): BatchNorm1d(128, eps=1e-05, momentum=0.1, affine=True, track_running_stats=True)\n",
      "  (fc2): Linear(in_features=130, out_features=128, bias=True)\n",
      "  (fc3): Linear(in_features=128, out_features=1, bias=True)\n",
      ")\n"
     ]
    }
   ],
   "source": [
    "print(maddpg.agents[0].actor_target)\n",
    "print(maddpg.agents[0].critic_target)"
   ]
  },
  {
   "cell_type": "markdown",
   "metadata": {},
   "source": [
    "#### 4.4 Train the agents to play tennis"
   ]
  },
  {
   "cell_type": "code",
   "execution_count": 9,
   "metadata": {},
   "outputs": [
    {
     "name": "stderr",
     "output_type": "stream",
     "text": [
      "C:\\Users\\Master\\.conda\\envs\\drlnd\\lib\\site-packages\\torch\\nn\\functional.py:1340: UserWarning: nn.functional.tanh is deprecated. Use torch.tanh instead.\n",
      "  warnings.warn(\"nn.functional.tanh is deprecated. Use torch.tanh instead.\")\n"
     ]
    },
    {
     "name": "stdout",
     "output_type": "stream",
     "text": [
      "Episode: 0\tAverage Score: 0.00\tCritic Loss: 0.000000\tActor Loss: 0.000000\tt_step       15  t_step:       15\n",
      "Episode: 50\tAverage Score: 0.00\tCritic Loss: 0.000015\tActor Loss: -0.005425\tt_step      797  t_step:      797\n",
      "Episode: 100\tAverage Score: 0.00\tCritic Loss: 0.000034\tActor Loss: -0.000644\tt_step     1558  t_step:     1558\n",
      "Episode: 150\tAverage Score: 0.01\tCritic Loss: 0.000033\tActor Loss: -0.007449\tt_step     2432  t_step:     2432\n",
      "Episode: 200\tAverage Score: 0.02\tCritic Loss: 0.000059\tActor Loss: -0.008942\tt_step     3341  t_step:     3341\n",
      "Episode: 250\tAverage Score: 0.04\tCritic Loss: 0.000086\tActor Loss: -0.015792\tt_step     4626  t_step:     4626\n",
      "Episode: 300\tAverage Score: 0.06\tCritic Loss: 0.000124\tActor Loss: -0.021564\tt_step     5840  t_step:     5840\n",
      "Episode: 350\tAverage Score: 0.07\tCritic Loss: 0.000136\tActor Loss: -0.030979\tt_step     7571  t_step:     7571\n",
      "Episode: 400\tAverage Score: 0.09\tCritic Loss: 0.000166\tActor Loss: -0.041021\tt_step     9476  t_step:     9476\n",
      "Episode: 450\tAverage Score: 0.10\tCritic Loss: 0.000137\tActor Loss: -0.049114\tt_step    11569  t_step:    11569\n",
      "Episode: 500\tAverage Score: 0.09\tCritic Loss: 0.000145\tActor Loss: -0.052567\tt_step    13434  t_step:    13434\n",
      "Episode: 550\tAverage Score: 0.08\tCritic Loss: 0.000118\tActor Loss: -0.050407\tt_step    14919  t_step:    14919\n",
      "Episode: 600\tAverage Score: 0.06\tCritic Loss: 0.000164\tActor Loss: -0.047601\tt_step    16224  t_step:    16224\n",
      "Episode: 650\tAverage Score: 0.07\tCritic Loss: 0.000140\tActor Loss: -0.048537\tt_step    17885  t_step:    17885\n",
      "Episode: 700\tAverage Score: 0.08\tCritic Loss: 0.000145\tActor Loss: -0.048289\tt_step    19594  t_step:    19594\n",
      "Episode: 750\tAverage Score: 0.09\tCritic Loss: 0.000146\tActor Loss: -0.051977\tt_step    21724  t_step:    21724\n",
      "Episode: 800\tAverage Score: 0.10\tCritic Loss: 0.000178\tActor Loss: -0.053673\tt_step    23556  t_step:    23556\n",
      "Episode: 850\tAverage Score: 0.10\tCritic Loss: 0.000127\tActor Loss: -0.054123\tt_step    25677  t_step:    25677\n",
      "Episode: 900\tAverage Score: 0.09\tCritic Loss: 0.000154\tActor Loss: -0.060299\tt_step    27488  t_step:    27488\n",
      "Episode: 950\tAverage Score: 0.08\tCritic Loss: 0.000175\tActor Loss: -0.060791\tt_step    29206  t_step:    29206\n",
      "Episode: 1000\tAverage Score: 0.09\tCritic Loss: 0.000153\tActor Loss: -0.065685\tt_step    31329  t_step:    31329\n",
      "Episode: 1050\tAverage Score: 0.11\tCritic Loss: 0.000165\tActor Loss: -0.068747\tt_step    33863  t_step:    33863\n",
      "Episode: 1100\tAverage Score: 0.13\tCritic Loss: 0.000197\tActor Loss: -0.075010\tt_step    36971  t_step:    36971\n",
      "Episode: 1150\tAverage Score: 0.14\tCritic Loss: 0.000158\tActor Loss: -0.080270\tt_step    39733  t_step:    39733\n",
      "Episode: 1200\tAverage Score: 0.15\tCritic Loss: 0.000201\tActor Loss: -0.089132\tt_step    43022  t_step:    43022\n",
      "Episode: 1250\tAverage Score: 0.17\tCritic Loss: 0.000225\tActor Loss: -0.095316\tt_step    46559  t_step:    46559\n",
      "Episode: 1300\tAverage Score: 0.17\tCritic Loss: 0.000191\tActor Loss: -0.118017\tt_step    50461  t_step:    50461\n",
      "Episode: 1350\tAverage Score: 0.20\tCritic Loss: 0.000352\tActor Loss: -0.143723\tt_step    55027  t_step:    55027\n",
      "Episode: 1400\tAverage Score: 0.31\tCritic Loss: 0.000421\tActor Loss: -0.193846\tt_step    63224  t_step:    63224\n",
      "Episode: 1418  Average Score: 0.51  Score: 2.60  Critic Loss: 0.000948  Actor Loss: -0.288310  t_step:    72316\n",
      "Environment solved in 1418 episodes!\tAverage Score: 0.51\n"
     ]
    },
    {
     "data": {
      "image/png": "[encoded data removed]",
      "text/plain": [
       "<Figure size 432x288 with 1 Axes>"
      ]
     },
     "metadata": {
      "needs_background": "light"
     },
     "output_type": "display_data"
    }
   ],
   "source": [
    "def train(n_episode=30000):\n",
    "    \"\"\"\n",
    "    Function to train the agent\n",
    "    \"\"\"\n",
    "    scores = []\n",
    "    scores_window = deque(maxlen=100)\n",
    "    for i_episode in range(n_episode):\n",
    "        env_info = env.reset(train_mode=True)[brain_name]\n",
    "        states = env_info.vector_observations\n",
    "        maddpg.reset()\n",
    "        score = np.zeros(num_agents)\n",
    "        while True:\n",
    "            actions = maddpg.act(states)\n",
    "            env_info = env.step(actions)[brain_name]\n",
    "            next_states = env_info.vector_observations\n",
    "            rewards = env_info.rewards\n",
    "            dones = env_info.local_done\n",
    "            maddpg.step(states, actions, rewards, next_states, dones)\n",
    "            score += rewards\n",
    "            states = next_states\n",
    "            if np.any(dones):\n",
    "                break\n",
    "        max_score = np.max(score)\n",
    "        scores_window.append(max_score)\n",
    "        scores.append(max_score)\n",
    "        print('\\rEpisode: {}  Average Score: {:.2f}  Score: {:.2f}  Critic Loss: {:-7.6f}  Actor Loss: {:-7.6f}'\n",
    "              '  t_step: {:-8d}'.\n",
    "              format(i_episode, np.mean(scores_window), max_score, maddpg.loss[0], maddpg.loss[1], maddpg.t_step)\\\n",
    "              , end=\"\")\n",
    "        \n",
    "        # periodic model checkpoint\n",
    "        if i_episode % 50 == 0:\n",
    "            torch.save(maddpg.agents[0].actor_local.state_dict(), 'checkpoint_actor.pth')\n",
    "            torch.save(maddpg.agents[0].critic_local.state_dict(), 'checkpoint_critic.pth')\n",
    "            print('\\rEpisode: {}\\tAverage Score: {:.2f}\\tCritic Loss: {:-7.6f}\\tActor Loss: {:-7.6f}\\tt_step {:-8d}'\n",
    "                  .format(i_episode, np.mean(scores_window), maddpg.loss[0], maddpg.loss[1], maddpg.t_step))\n",
    "            \n",
    "        # Stopping the training after the avg score of >= 0.5 is reached\n",
    "        if np.mean(scores_window) >= 0.5:\n",
    "            print('\\nEnvironment solved in {:d} episodes!\\tAverage Score: {:.2f}'.format(i_episode,\n",
    "                                                                                         np.mean(scores_window)))\n",
    "            torch.save(maddpg.agents[0].actor_local.state_dict(), 'checkpoint_actor.pth')\n",
    "            torch.save(maddpg.agents[0].critic_local.state_dict(), 'checkpoint_critic.pth')\n",
    "            break\n",
    "\n",
    "    plt.plot(np.arange(1, len(scores)+1), scores)\n",
    "    plt.ylabel('Score')\n",
    "    plt.xlabel('Episode #')\n",
    "    plt.show()\n",
    "\n",
    "train()"
   ]
  },
  {
   "cell_type": "markdown",
   "metadata": {},
   "source": [
    "### 5 Load the model parameter and test the agents\n",
    "\n",
    "Set train_mode=False"
   ]
  },
  {
   "cell_type": "code",
   "execution_count": 10,
   "metadata": {},
   "outputs": [],
   "source": [
    "for agent in maddpg.agents:\n",
    "    agent.actor_local.load_state_dict(torch.load('checkpoint_actor.pth'))\n",
    "    agent.critic_local.load_state_dict(torch.load('checkpoint_critic.pth'))"
   ]
  },
  {
   "cell_type": "markdown",
   "metadata": {},
   "source": [
    "#### 5.1 Let the agents play tennis"
   ]
  },
  {
   "cell_type": "code",
   "execution_count": 11,
   "metadata": {},
   "outputs": [
    {
     "name": "stderr",
     "output_type": "stream",
     "text": [
      "C:\\Users\\Master\\.conda\\envs\\drlnd\\lib\\site-packages\\torch\\nn\\functional.py:1340: UserWarning: nn.functional.tanh is deprecated. Use torch.tanh instead.\n",
      "  warnings.warn(\"nn.functional.tanh is deprecated. Use torch.tanh instead.\")\n"
     ]
    },
    {
     "name": "stdout",
     "output_type": "stream",
     "text": [
      "Score (max over agents) from episode 1: 2.600000038743019\n",
      "Score (max over agents) from episode 2: 0.0\n",
      "Score (max over agents) from episode 3: 2.600000038743019\n",
      "Score (max over agents) from episode 4: 2.7000000402331352\n",
      "Score (max over agents) from episode 5: 2.600000038743019\n",
      "Score (max over agents) from episode 6: 2.600000038743019\n",
      "Score (max over agents) from episode 7: 2.600000038743019\n",
      "Score (max over agents) from episode 8: 2.7000000402331352\n",
      "Score (max over agents) from episode 9: 2.600000038743019\n"
     ]
    }
   ],
   "source": [
    "for i in range(1, 10):                             # play the game for 10 episodes\n",
    "    env.reset(train_mode=False)[brain_name]        # reset the environment  \n",
    "    states = env_info.vector_observations          # get the current states (for each agent)\n",
    "    scores = np.zeros(num_agents)                  # initialize the score (for each agent)\n",
    "\n",
    "    while True:\n",
    "        actions = maddpg.act(states)                # select an action (for each agent)\n",
    "        env_info = env.step(actions)[brain_name]    # send all actions to the environment\n",
    "        next_states = env_info.vector_observations  # get next state (for each agent)        \n",
    "        rewards = env_info.rewards                  # get reward (for each agent)\n",
    "        dones = env_info.local_done                 # see if episode finished\n",
    "        states = next_states                        # roll over state to next time step\n",
    "        scores += env_info.rewards                  # update the score \n",
    "        if np.any(dones):                           # exit loop if episode finished\n",
    "            break\n",
    "    print('Score (max over agents) from episode {}: {}'.format(i, np.max(scores)))"
   ]
  },
  {
   "cell_type": "markdown",
   "metadata": {},
   "source": [
    "#### 5.2 Play the recorded tennis game"
   ]
  },
  {
   "cell_type": "code",
   "execution_count": 2,
   "metadata": {},
   "outputs": [
    {
     "data": {
      "text/html": [
       "\n",
       "<video width=\"640\" height=\"360\" controls>\n",
       "  <source src=\"./media/game_set_match.mp4\" type=\"video/mp4\">\n",
       "</video>\n"
      ],
      "text/plain": [
       "<IPython.core.display.HTML object>"
      ]
     },
     "execution_count": 2,
     "metadata": {},
     "output_type": "execute_result"
    }
   ],
   "source": [
    "from IPython.display import HTML\n",
    "\n",
    "HTML(\"\"\"\n",
    "<video width=\"640\" height=\"360\" controls>\n",
    "  <source src=\"./media/game_set_match.mp4\" type=\"video/mp4\">\n",
    "</video>\n",
    "\"\"\")"
   ]
  },
  {
   "cell_type": "markdown",
   "metadata": {},
   "source": [
    "### 6. Close the environment"
   ]
  },
  {
   "cell_type": "markdown",
   "metadata": {},
   "source": [
    "When finished, you can close the environment."
   ]
  },
  {
   "cell_type": "code",
   "execution_count": 13,
   "metadata": {},
   "outputs": [],
   "source": [
    "env.close()"
   ]
  }
 ],
 "metadata": {
  "kernelspec": {
   "display_name": "Python 3",
   "language": "python",
   "name": "python3"
  },
  "language_info": {
   "codemirror_mode": {
    "name": "ipython",
    "version": 3
   },
   "file_extension": ".py",
   "mimetype": "text/x-python",
   "name": "python",
   "nbconvert_exporter": "python",
   "pygments_lexer": "ipython3",
   "version": "3.6.12"
  }
 },
 "nbformat": 4,
 "nbformat_minor": 2
}
